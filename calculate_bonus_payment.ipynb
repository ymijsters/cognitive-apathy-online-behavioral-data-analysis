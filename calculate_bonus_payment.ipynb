{
 "cells": [
  {
   "cell_type": "code",
   "execution_count": 1,
   "metadata": {},
   "outputs": [
    {
     "name": "stdout",
     "output_type": "stream",
     "text": [
      "Last trial with totalReward found in numerosity_5adef850eb60400001539109_2025-03-05T19_54_21.326Z_20250306_09.03.json:\n",
      "Total Reward: 1267.7216232076007\n",
      "Stimulus: <p>You have earned: 1268 points total, equivalent to 0.83 GBP. Press the button below to proceed to the next block of trials.</p>\n",
      "Last trial with totalReward found in numerosity_5d7472ad3bc4020015f3bb56_2025-03-06T19_12_57.668Z_20250317_14.02.json:\n",
      "Total Reward: 8014.072345820473\n",
      "Stimulus: <p>You have earned: 8014 points total, equivalent to 5.27 GBP. Press the button below to proceed to the next block of trials.</p>\n",
      "Last trial with totalReward found in numerosity_63cff262503b56190be3eb18_2025-03-06T21_13_32.192Z_20250317_14.02.json:\n",
      "Total Reward: 2717.6280048908657\n",
      "Stimulus: <p>You have earned: 2718 points total, equivalent to 1.79 GBP. Press the button below to proceed to the next block of trials.</p>\n",
      "Last trial with totalReward found in numerosity_6562025a6e3331528cf8fb3d_2025-03-06T20_47_39.480Z_20250317_14.02.json:\n",
      "Total Reward: 8736.552460711397\n",
      "Stimulus: <p>You have earned: 8737 points total, equivalent to 5.75 GBP. Press the button below to proceed to the next block of trials.</p>\n",
      "Last trial with totalReward found in numerosity_6612c945cebe319d923b80f8_2025-03-06T19_41_39.464Z_20250317_14.02.json:\n",
      "Total Reward: 6721.340682592626\n",
      "Stimulus: <p>You have earned: 6721 points total, equivalent to 4.42 GBP. Press the button below to proceed to the next block of trials.</p>\n",
      "Last trial with totalReward found in numerosity_66b5a7ae36e5b931db863954_2025-03-05T19_14_11.010Z_20250306_09.03.json:\n",
      "Total Reward: 6977.855234969041\n",
      "Stimulus: <p>You have earned: 6978 points total, equivalent to 4.59 GBP. Press the button below to proceed to the next block of trials.</p>\n",
      "Last trial with totalReward found in numerosity_6773fc8590d7b54b0d580e6b_2025-03-06T21_43_44.383Z_20250317_14.02.json:\n",
      "Total Reward: 7515.126320746327\n",
      "Stimulus: <p>You have earned: 7515 points total, equivalent to 4.94 GBP. Press the button below to proceed to the next block of trials.</p>\n",
      "Last trial with totalReward found in numerosity_6785b7dd6705050739feb0ad_2025-03-05T19_38_14.876Z_20250306_09.03.json:\n",
      "Total Reward: 6817.713435139697\n",
      "Stimulus: <p>You have earned: 6818 points total, equivalent to 4.49 GBP. Press the button below to proceed to the next block of trials.</p>\n",
      "Last trial with totalReward found in numerosity_678fa07cd72c816bac76bda5_2025-03-05T19_24_37.980Z_20250306_09.03.json:\n",
      "Total Reward: 7115.117590785437\n",
      "Stimulus: <p>You have earned: 7115 points total, equivalent to 4.68 GBP. Press the button below to proceed to the next block of trials.</p>\n",
      "Last trial with totalReward found in numerosity_67ac2151e5b37e0b91a5af0e_2025-03-05T19_09_18.774Z_20250306_09.03.json:\n",
      "Total Reward: 7410.361511977482\n",
      "Stimulus: <p>You have earned: 7410 points total, equivalent to 4.88 GBP. Press the button below to proceed to the next block of trials.</p>\n"
     ]
    }
   ],
   "source": [
    "import json\n",
    "import os\n",
    "\n",
    "# Define the folder where your JSON files are located\n",
    "folder_path = \"Pilot Data\"  # Adjust the folder path as needed\n",
    "\n",
    "# Get a list of all JSON files in the folder\n",
    "json_files = [f for f in os.listdir(folder_path) if f.endswith('.json')]\n",
    "\n",
    "# Loop over all JSON files\n",
    "for json_file in json_files:\n",
    "    file_path = os.path.join(folder_path, json_file)\n",
    "    \n",
    "    # Load the JSON file\n",
    "    with open(file_path, \"r\", encoding=\"utf-8\") as file:\n",
    "        data = json.load(file)\n",
    "\n",
    "    # Iterate over each entry in the JSON in reverse order\n",
    "    for entry in reversed(data):  # reversed() will loop backwards\n",
    "        if 'totalReward' in entry:  # Check if the 'totalReward' field is present\n",
    "            print(f\"Last trial with totalReward found in {json_file}:\")\n",
    "            print(f\"Total Reward: {entry.get('totalReward', 'No stimulus value available')}\")\n",
    "            print(f\"Stimulus: {entry.get('stimulus', 'No stimulus value available')}\")\n",
    "            break  # Exit the loop once the last trial with totalReward is found\n"
   ]
  }
 ],
 "metadata": {
  "kernelspec": {
   "display_name": "Python 3",
   "language": "python",
   "name": "python3"
  },
  "language_info": {
   "codemirror_mode": {
    "name": "ipython",
    "version": 3
   },
   "file_extension": ".py",
   "mimetype": "text/x-python",
   "name": "python",
   "nbconvert_exporter": "python",
   "pygments_lexer": "ipython3",
   "version": "3.11.9"
  }
 },
 "nbformat": 4,
 "nbformat_minor": 2
}
